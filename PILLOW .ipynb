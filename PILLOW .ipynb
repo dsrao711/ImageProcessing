{
 "cells": [
  {
   "cell_type": "code",
   "execution_count": 2,
   "id": "generic-shareware",
   "metadata": {},
   "outputs": [],
   "source": [
    "import PIL\n"
   ]
  },
  {
   "cell_type": "markdown",
   "id": "detailed-hudson",
   "metadata": {},
   "source": [
    "## Read and display image,properties"
   ]
  },
  {
   "cell_type": "code",
   "execution_count": 3,
   "id": "completed-evaluation",
   "metadata": {},
   "outputs": [],
   "source": [
    "from PIL import Image\n",
    "im = Image.open('scenery.jpg')"
   ]
  },
  {
   "cell_type": "code",
   "execution_count": 4,
   "id": "sharing-radiation",
   "metadata": {},
   "outputs": [],
   "source": [
    "im.show()"
   ]
  },
  {
   "cell_type": "code",
   "execution_count": 5,
   "id": "psychological-complaint",
   "metadata": {},
   "outputs": [
    {
     "name": "stdout",
     "output_type": "stream",
     "text": [
      "JPEG (2005, 1085)\n"
     ]
    }
   ],
   "source": [
    "print(im.format,im.size)"
   ]
  },
  {
   "cell_type": "code",
   "execution_count": 6,
   "id": "physical-gregory",
   "metadata": {},
   "outputs": [],
   "source": [
    "im.rotate(45).show()"
   ]
  },
  {
   "cell_type": "code",
   "execution_count": 11,
   "id": "occupational-dimension",
   "metadata": {},
   "outputs": [],
   "source": [
    "from PIL import Image\n",
    "im2 = Image.open('wallpaper.jpg')\n",
    "im2.show()"
   ]
  },
  {
   "cell_type": "code",
   "execution_count": 16,
   "id": "measured-remark",
   "metadata": {},
   "outputs": [
    {
     "name": "stdout",
     "output_type": "stream",
     "text": [
      "(2005, 1085)\n"
     ]
    }
   ],
   "source": [
    "print(im_1.size)"
   ]
  },
  {
   "cell_type": "markdown",
   "id": "logical-furniture",
   "metadata": {},
   "source": [
    "# Blending"
   ]
  },
  {
   "cell_type": "code",
   "execution_count": 19,
   "id": "material-cambridge",
   "metadata": {},
   "outputs": [],
   "source": [
    "im_1_resize = im_1.resize((256,256))\n",
    "im_1_resize.show()"
   ]
  },
  {
   "cell_type": "code",
   "execution_count": 20,
   "id": "direct-junior",
   "metadata": {},
   "outputs": [],
   "source": [
    "im_2_resize = im_2.resize((256 , 256))\n",
    "blended_im = Image.blend(im_1_resize , im_2_resize , 0.5)\n",
    "blended_im.show()"
   ]
  },
  {
   "cell_type": "code",
   "execution_count": 22,
   "id": "complimentary-garlic",
   "metadata": {},
   "outputs": [],
   "source": [
    "im_1_resize.show()"
   ]
  },
  {
   "cell_type": "code",
   "execution_count": 23,
   "id": "talented-doctrine",
   "metadata": {},
   "outputs": [],
   "source": [
    "im_2_resize.show()"
   ]
  },
  {
   "cell_type": "markdown",
   "id": "radical-genetics",
   "metadata": {},
   "source": [
    "## Composite"
   ]
  },
  {
   "cell_type": "code",
   "execution_count": 25,
   "id": "caring-anchor",
   "metadata": {},
   "outputs": [],
   "source": [
    "composite_img = Image.composite(im_1_resize.convert('L'), im_2_resize.convert('L') , im_1_resize.convert('L'))\n",
    "composite_img.show()\n"
   ]
  },
  {
   "cell_type": "code",
   "execution_count": 26,
   "id": "dynamic-discovery",
   "metadata": {},
   "outputs": [],
   "source": [
    "composite_img = Image.composite(im_1_resize.convert('RGBA'), im_2_resize.convert('RGBA') , im_1_resize.convert('RGBA'))\n",
    "composite_img.show()"
   ]
  },
  {
   "cell_type": "code",
   "execution_count": 27,
   "id": "rational-fellowship",
   "metadata": {},
   "outputs": [],
   "source": [
    "composite_img = Image.composite(im_1_resize.convert('RGBA'), im_2_resize.convert('RGBA') , im_2_resize.convert('RGBA'))\n",
    "composite_img.show()"
   ]
  },
  {
   "cell_type": "code",
   "execution_count": 28,
   "id": "certain-miller",
   "metadata": {},
   "outputs": [],
   "source": [
    "composite_img = Image.composite(im_1_resize.convert('L'), im_2_resize.convert('L') , im_1_resize.convert('L'))\n",
    "composite_img.show()\n"
   ]
  },
  {
   "cell_type": "code",
   "execution_count": 29,
   "id": "sticky-hopkins",
   "metadata": {},
   "outputs": [],
   "source": [
    "composite_img = Image.composite(im_1_resize.convert('1'), im_2_resize.convert('1') , im_1_resize.convert('L'))\n",
    "composite_img.show()"
   ]
  },
  {
   "cell_type": "markdown",
   "id": "municipal-manufacturer",
   "metadata": {},
   "source": [
    "## Conversion"
   ]
  },
  {
   "cell_type": "code",
   "execution_count": 30,
   "id": "pretty-paradise",
   "metadata": {},
   "outputs": [],
   "source": [
    "im_1_resize.convert(\"L\").show()"
   ]
  },
  {
   "cell_type": "code",
   "execution_count": 31,
   "id": "roman-scenario",
   "metadata": {},
   "outputs": [],
   "source": [
    "im_2_resize.convert(\"1\").show()"
   ]
  },
  {
   "cell_type": "markdown",
   "id": "swiss-sustainability",
   "metadata": {},
   "source": [
    "## Crop"
   ]
  },
  {
   "cell_type": "code",
   "execution_count": 34,
   "id": "circular-ranking",
   "metadata": {},
   "outputs": [],
   "source": [
    "#crop((left,top,right,bottom))\n",
    "im_1_resize.crop((10 , 20 , 20 , 30)).show()"
   ]
  },
  {
   "cell_type": "markdown",
   "id": "thousand-reasoning",
   "metadata": {},
   "source": [
    "## Filter"
   ]
  },
  {
   "cell_type": "code",
   "execution_count": 41,
   "id": "lined-budapest",
   "metadata": {},
   "outputs": [],
   "source": [
    "from PIL import ImageFilter\n",
    "# im_2_resize.filter(ImageFilter.BLUR).show()\n",
    "# im_2_resize.filter(ImageFilter.CONTOUR).show()\n",
    "# im_2_resize.filter(ImageFilter.DETAIL).show()\n",
    "# im_2_resize.filter(ImageFilter.EDGE_ENHANCE).show()\n",
    "# im_2_resize.filter(ImageFilter.EMBOSS).show()\n",
    "im_2_resize.filter(ImageFilter.SMOOTH).show()\n"
   ]
  },
  {
   "cell_type": "markdown",
   "id": "pharmaceutical-binding",
   "metadata": {},
   "source": [
    "## Size"
   ]
  },
  {
   "cell_type": "code",
   "execution_count": 42,
   "id": "blocked-blond",
   "metadata": {},
   "outputs": [
    {
     "name": "stdout",
     "output_type": "stream",
     "text": [
      "256\n"
     ]
    }
   ],
   "source": [
    "#width\n",
    "print(im_2_resize.size[0])"
   ]
  },
  {
   "cell_type": "code",
   "execution_count": 43,
   "id": "involved-index",
   "metadata": {},
   "outputs": [
    {
     "name": "stdout",
     "output_type": "stream",
     "text": [
      "256\n"
     ]
    }
   ],
   "source": [
    "#height\n",
    "print(im_2_resize.size[1])"
   ]
  },
  {
   "cell_type": "code",
   "execution_count": 45,
   "id": "cubic-bathroom",
   "metadata": {},
   "outputs": [
    {
     "name": "stdout",
     "output_type": "stream",
     "text": [
      "(256, 256)\n"
     ]
    }
   ],
   "source": [
    "print(im_2_resize.size)"
   ]
  },
  {
   "cell_type": "code",
   "execution_count": 52,
   "id": "extreme-blake",
   "metadata": {},
   "outputs": [
    {
     "name": "stdout",
     "output_type": "stream",
     "text": [
      "None\n"
     ]
    }
   ],
   "source": [
    "im_3 = Image.open('img3.png')\n",
    "im_3.resize((256,256))\n",
    "im_3.show()\n",
    "width = im_3.size[0]\n",
    "height = im_3.size[1]\n",
    "print(im_3.getcolors(1000))"
   ]
  },
  {
   "cell_type": "code",
   "execution_count": null,
   "id": "likely-creek",
   "metadata": {},
   "outputs": [],
   "source": []
  }
 ],
 "metadata": {
  "kernelspec": {
   "display_name": "Python 3",
   "language": "python",
   "name": "python3"
  },
  "language_info": {
   "codemirror_mode": {
    "name": "ipython",
    "version": 3
   },
   "file_extension": ".py",
   "mimetype": "text/x-python",
   "name": "python",
   "nbconvert_exporter": "python",
   "pygments_lexer": "ipython3",
   "version": "3.8.0"
  }
 },
 "nbformat": 4,
 "nbformat_minor": 5
}
